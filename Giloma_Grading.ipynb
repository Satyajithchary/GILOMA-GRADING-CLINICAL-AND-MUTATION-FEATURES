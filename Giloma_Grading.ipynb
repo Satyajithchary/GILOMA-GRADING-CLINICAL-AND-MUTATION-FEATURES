{
  "nbformat": 4,
  "nbformat_minor": 0,
  "metadata": {
    "colab": {
      "provenance": []
    },
    "kernelspec": {
      "name": "python3",
      "display_name": "Python 3"
    },
    "language_info": {
      "name": "python"
    }
  },
  "cells": [
    {
      "cell_type": "code",
      "execution_count": null,
      "metadata": {
        "id": "Lnx30PC1XZMt"
      },
      "outputs": [],
      "source": [
        "import pandas as pd\n",
        "from sklearn.impute import SimpleImputer\n",
        "from sklearn.preprocessing import LabelEncoder\n",
        "from sklearn.model_selection import train_test_split\n",
        "from sklearn.metrics import accuracy_score\n"
      ]
    },
    {
      "cell_type": "code",
      "source": [
        "df =pd.read_csv(\"/content/TCGA_GBM_LGG_Mutations_all.csv\", header=None, na_values=\"?\")"
      ],
      "metadata": {
        "id": "knDUmdSlXtXE"
      },
      "execution_count": null,
      "outputs": []
    },
    {
      "cell_type": "code",
      "source": [
        "print(df.head)\n",
        "print(df.isna().sum())"
      ],
      "metadata": {
        "colab": {
          "base_uri": "https://localhost:8080/"
        },
        "id": "-HPgxuTMX4NF",
        "outputId": "c7234fc0-7058-4f35-93e4-9a270430f6ee"
      },
      "execution_count": null,
      "outputs": [
        {
          "output_type": "stream",
          "name": "stdout",
          "text": [
            "<bound method NDFrame.head of         0         1             2       3                  4   \\\n",
            "0    Grade   Project       Case_ID  Gender   Age_at_diagnosis   \n",
            "1      LGG  TCGA-LGG  TCGA-DU-8164    Male  51 years 108 days   \n",
            "2      LGG  TCGA-LGG  TCGA-QH-A6CY    Male  38 years 261 days   \n",
            "3      LGG  TCGA-LGG  TCGA-HW-A5KM    Male   35 years 62 days   \n",
            "4      LGG  TCGA-LGG  TCGA-E1-A7YE  Female  32 years 283 days   \n",
            "..     ...       ...           ...     ...                ...   \n",
            "858    GBM  TCGA-GBM  TCGA-19-5959  Female  77 years 325 days   \n",
            "859    GBM  TCGA-GBM  TCGA-16-0846    Male   85 years 65 days   \n",
            "860    GBM  TCGA-GBM  TCGA-28-1746  Female  77 years 178 days   \n",
            "861    GBM  TCGA-GBM  TCGA-32-2491    Male  63 years 121 days   \n",
            "862    GBM  TCGA-GBM  TCGA-06-2557    Male  76 years 221 days   \n",
            "\n",
            "                          5                          6            7   \\\n",
            "0          Primary_Diagnosis                       Race         IDH1   \n",
            "1     Oligodendroglioma, NOS                      white      MUTATED   \n",
            "2               Mixed glioma                      white      MUTATED   \n",
            "3           Astrocytoma, NOS                      white      MUTATED   \n",
            "4    Astrocytoma, anaplastic                      white      MUTATED   \n",
            "..                       ...                        ...          ...   \n",
            "858             Glioblastoma                      white  NOT_MUTATED   \n",
            "859             Glioblastoma                      white  NOT_MUTATED   \n",
            "860             Glioblastoma                      white  NOT_MUTATED   \n",
            "861             Glioblastoma                      white  NOT_MUTATED   \n",
            "862             Glioblastoma  black or african american  NOT_MUTATED   \n",
            "\n",
            "              8            9   ...           17           18           19  \\\n",
            "0           TP53         ATRX  ...        FUBP1          RB1       NOTCH1   \n",
            "1    NOT_MUTATED  NOT_MUTATED  ...      MUTATED  NOT_MUTATED  NOT_MUTATED   \n",
            "2    NOT_MUTATED  NOT_MUTATED  ...  NOT_MUTATED  NOT_MUTATED  NOT_MUTATED   \n",
            "3        MUTATED      MUTATED  ...  NOT_MUTATED  NOT_MUTATED  NOT_MUTATED   \n",
            "4        MUTATED      MUTATED  ...  NOT_MUTATED  NOT_MUTATED  NOT_MUTATED   \n",
            "..           ...          ...  ...          ...          ...          ...   \n",
            "858  NOT_MUTATED  NOT_MUTATED  ...  NOT_MUTATED  NOT_MUTATED  NOT_MUTATED   \n",
            "859      MUTATED  NOT_MUTATED  ...  NOT_MUTATED  NOT_MUTATED  NOT_MUTATED   \n",
            "860      MUTATED  NOT_MUTATED  ...  NOT_MUTATED  NOT_MUTATED  NOT_MUTATED   \n",
            "861      MUTATED  NOT_MUTATED  ...  NOT_MUTATED      MUTATED  NOT_MUTATED   \n",
            "862  NOT_MUTATED  NOT_MUTATED  ...  NOT_MUTATED  NOT_MUTATED  NOT_MUTATED   \n",
            "\n",
            "              20           21           22           23           24  \\\n",
            "0           BCOR        CSMD3      SMARCA4       GRIN2A         IDH2   \n",
            "1    NOT_MUTATED  NOT_MUTATED  NOT_MUTATED  NOT_MUTATED  NOT_MUTATED   \n",
            "2    NOT_MUTATED  NOT_MUTATED  NOT_MUTATED  NOT_MUTATED  NOT_MUTATED   \n",
            "3    NOT_MUTATED  NOT_MUTATED  NOT_MUTATED  NOT_MUTATED  NOT_MUTATED   \n",
            "4    NOT_MUTATED  NOT_MUTATED  NOT_MUTATED  NOT_MUTATED  NOT_MUTATED   \n",
            "..           ...          ...          ...          ...          ...   \n",
            "858  NOT_MUTATED  NOT_MUTATED  NOT_MUTATED  NOT_MUTATED  NOT_MUTATED   \n",
            "859  NOT_MUTATED  NOT_MUTATED  NOT_MUTATED  NOT_MUTATED  NOT_MUTATED   \n",
            "860  NOT_MUTATED  NOT_MUTATED  NOT_MUTATED  NOT_MUTATED  NOT_MUTATED   \n",
            "861  NOT_MUTATED  NOT_MUTATED  NOT_MUTATED  NOT_MUTATED  NOT_MUTATED   \n",
            "862  NOT_MUTATED  NOT_MUTATED  NOT_MUTATED  NOT_MUTATED  NOT_MUTATED   \n",
            "\n",
            "              25           26  \n",
            "0           FAT4       PDGFRA  \n",
            "1    NOT_MUTATED  NOT_MUTATED  \n",
            "2    NOT_MUTATED  NOT_MUTATED  \n",
            "3    NOT_MUTATED  NOT_MUTATED  \n",
            "4        MUTATED  NOT_MUTATED  \n",
            "..           ...          ...  \n",
            "858  NOT_MUTATED  NOT_MUTATED  \n",
            "859  NOT_MUTATED  NOT_MUTATED  \n",
            "860  NOT_MUTATED  NOT_MUTATED  \n",
            "861  NOT_MUTATED  NOT_MUTATED  \n",
            "862  NOT_MUTATED  NOT_MUTATED  \n",
            "\n",
            "[863 rows x 27 columns]>\n",
            "0     0\n",
            "1     0\n",
            "2     0\n",
            "3     0\n",
            "4     0\n",
            "5     0\n",
            "6     0\n",
            "7     0\n",
            "8     0\n",
            "9     0\n",
            "10    0\n",
            "11    0\n",
            "12    0\n",
            "13    0\n",
            "14    0\n",
            "15    0\n",
            "16    0\n",
            "17    0\n",
            "18    0\n",
            "19    0\n",
            "20    0\n",
            "21    0\n",
            "22    0\n",
            "23    0\n",
            "24    0\n",
            "25    0\n",
            "26    0\n",
            "dtype: int64\n"
          ]
        }
      ]
    },
    {
      "cell_type": "code",
      "source": [
        "print(df.columns)\n"
      ],
      "metadata": {
        "colab": {
          "base_uri": "https://localhost:8080/"
        },
        "id": "b_-YMDrIX_Qe",
        "outputId": "2dc9e04a-bb3a-4ca1-fc85-a94b4140340b"
      },
      "execution_count": null,
      "outputs": [
        {
          "output_type": "stream",
          "name": "stdout",
          "text": [
            "Int64Index([ 0,  1,  2,  3,  4,  5,  6,  7,  8,  9, 10, 11, 12, 13, 14, 15, 16,\n",
            "            17, 18, 19, 20, 21, 22, 23, 24, 25, 26],\n",
            "           dtype='int64')\n"
          ]
        }
      ]
    },
    {
      "cell_type": "code",
      "source": [
        "import seaborn as sns\n",
        "import pandas as pd\n",
        "\n",
        "# Load the dataset\n",
        "data = pd.read_csv(\"/content/TCGA_GBM_LGG_Mutations_all.csv\")\n",
        "\n",
        "# Plot a scatter plot of the data\n",
        "sns.scatterplot(x=\"Grade\", y=\"Gender\", hue=\"Race\", data=data)"
      ],
      "metadata": {
        "colab": {
          "base_uri": "https://localhost:8080/",
          "height": 466
        },
        "id": "3umjXbGyYH62",
        "outputId": "00579560-314f-454c-f596-aeb0f1aa3628"
      },
      "execution_count": null,
      "outputs": [
        {
          "output_type": "execute_result",
          "data": {
            "text/plain": [
              "<Axes: xlabel='Grade', ylabel='Gender'>"
            ]
          },
          "metadata": {},
          "execution_count": 9
        },
        {
          "output_type": "display_data",
          "data": {
            "text/plain": [
              "<Figure size 640x480 with 1 Axes>"
            ],
            "image/png": "[encoded data removed]"
          },
          "metadata": {}
        }
      ]
    },
    {
      "cell_type": "code",
      "source": [
        "for i in range(0,27):\n",
        "  df[i]=LabelEncoder().fit_transform(df[i])\n",
        "df = df.drop([0])\n",
        "print(df.head)"
      ],
      "metadata": {
        "colab": {
          "base_uri": "https://localhost:8080/"
        },
        "id": "OKwjDirPYp0h",
        "outputId": "84a1c6f0-9e18-4854-bca9-1c652a483e76"
      },
      "execution_count": null,
      "outputs": [
        {
          "output_type": "stream",
          "name": "stdout",
          "text": [
            "<bound method NDFrame.head of      0   1    2   3    4   5   6   7   8   9   ...  17  18  19  20  21  22  \\\n",
            "1     2   2  481   3  410   5   6   1   1   2  ...   1   1   2   2   2   1   \n",
            "2     2   2  733   3  223   4   6   1   1   2  ...   2   1   2   2   2   1   \n",
            "3     2   2  693   3  174   1   6   1   0   1  ...   2   1   2   2   2   1   \n",
            "4     2   2  519   1  126   2   6   1   0   1  ...   2   1   2   2   2   1   \n",
            "5     2   2  776   3  104   2   6   1   0   1  ...   2   1   2   2   2   1   \n",
            "..   ..  ..  ...  ..  ...  ..  ..  ..  ..  ..  ...  ..  ..  ..  ..  ..  ..   \n",
            "858   0   1  234   1  803   3   6   2   1   2  ...   2   1   2   2   2   1   \n",
            "859   0   1  197   3  831   3   6   2   0   2  ...   2   1   2   2   2   1   \n",
            "860   0   1  267   1  802   3   6   2   0   2  ...   2   1   2   2   2   1   \n",
            "861   0   1  301   3  632   3   6   2   0   2  ...   2   0   2   2   2   1   \n",
            "862   0   1   80   3  792   3   4   2   1   2  ...   2   1   2   2   2   1   \n",
            "\n",
            "     23  24  25  26  \n",
            "1     2   2   2   1  \n",
            "2     2   2   2   1  \n",
            "3     2   2   2   1  \n",
            "4     2   2   1   1  \n",
            "5     2   2   2   1  \n",
            "..   ..  ..  ..  ..  \n",
            "858   2   2   2   1  \n",
            "859   2   2   2   1  \n",
            "860   2   2   2   1  \n",
            "861   2   2   2   1  \n",
            "862   2   2   2   1  \n",
            "\n",
            "[862 rows x 27 columns]>\n"
          ]
        }
      ]
    },
    {
      "cell_type": "code",
      "source": [
        "target=df[1]\n",
        "data=df.drop(columns=[1,0])\n",
        "print(target.shape, data.shape)\n",
        "from sklearn.model_selection import train_test_split\n",
        "x_train, x_test, y_train, y_test=train_test_split(data,target,test_size=0.7)\n",
        "print(x_train.shape, x_test.shape, y_train.shape, y_test.shape)"
      ],
      "metadata": {
        "colab": {
          "base_uri": "https://localhost:8080/"
        },
        "id": "BvHm81zpZcnc",
        "outputId": "8c9b62d0-78f6-49b8-e1d1-b83d6bf9f8cc"
      },
      "execution_count": null,
      "outputs": [
        {
          "output_type": "stream",
          "name": "stdout",
          "text": [
            "(862,) (862, 25)\n",
            "(258, 25) (604, 25) (258,) (604,)\n"
          ]
        }
      ]
    },
    {
      "cell_type": "code",
      "source": [
        "from sklearn.linear_model import Perceptron\n",
        "model = Perceptron()"
      ],
      "metadata": {
        "id": "HyscCDmTbQOV"
      },
      "execution_count": null,
      "outputs": []
    },
    {
      "cell_type": "code",
      "source": [
        "model.fit(x_train, y_train)\n",
        "from sklearn.metrics import accuracy_score\n",
        "pred_train = model.predict(x_train)\n",
        "pred_test = model.predict(x_test)\n",
        "print(\"Accuracy for training: \", accuracy_score(pred_train,y_train))\n",
        "print(\"Accuracy for testing: \", accuracy_score(pred_test,y_test))"
      ],
      "metadata": {
        "colab": {
          "base_uri": "https://localhost:8080/"
        },
        "id": "k6MO4D2tbciY",
        "outputId": "594b6093-d984-4f30-e72e-94c2ad9fc223"
      },
      "execution_count": null,
      "outputs": [
        {
          "output_type": "stream",
          "name": "stdout",
          "text": [
            "Accuracy for training:  0.9457364341085271\n",
            "Accuracy for testing:  0.9188741721854304\n"
          ]
        }
      ]
    },
    {
      "cell_type": "code",
      "source": [
        "\n",
        "from sklearn.linear_model import LogisticRegression\n",
        "model = LogisticRegression()"
      ],
      "metadata": {
        "id": "U4mIktHRbeyx"
      },
      "execution_count": null,
      "outputs": []
    },
    {
      "cell_type": "code",
      "source": [
        "model.fit(x_train, y_train)"
      ],
      "metadata": {
        "colab": {
          "base_uri": "https://localhost:8080/",
          "height": 213
        },
        "id": "XWh-g-ozbiMm",
        "outputId": "f77fe8b2-a492-4db6-f514-4b034072164c"
      },
      "execution_count": null,
      "outputs": [
        {
          "output_type": "stream",
          "name": "stderr",
          "text": [
            "/usr/local/lib/python3.9/dist-packages/sklearn/linear_model/_logistic.py:458: ConvergenceWarning: lbfgs failed to converge (status=1):\n",
            "STOP: TOTAL NO. of ITERATIONS REACHED LIMIT.\n",
            "\n",
            "Increase the number of iterations (max_iter) or scale the data as shown in:\n",
            "    https://scikit-learn.org/stable/modules/preprocessing.html\n",
            "Please also refer to the documentation for alternative solver options:\n",
            "    https://scikit-learn.org/stable/modules/linear_model.html#logistic-regression\n",
            "  n_iter_i = _check_optimize_result(\n"
          ]
        },
        {
          "output_type": "execute_result",
          "data": {
            "text/plain": [
              "LogisticRegression()"
            ],
            "text/html": [
              "<style>#sk-container-id-1 {color: black;background-color: white;}#sk-container-id-1 pre{padding: 0;}#sk-container-id-1 div.sk-toggleable {background-color: white;}#sk-container-id-1 label.sk-toggleable__label {cursor: pointer;display: block;width: 100%;margin-bottom: 0;padding: 0.3em;box-sizing: border-box;text-align: center;}#sk-container-id-1 label.sk-toggleable__label-arrow:before {content: \"▸\";float: left;margin-right: 0.25em;color: #696969;}#sk-container-id-1 label.sk-toggleable__label-arrow:hover:before {color: black;}#sk-container-id-1 div.sk-estimator:hover label.sk-toggleable__label-arrow:before {color: black;}#sk-container-id-1 div.sk-toggleable__content {max-height: 0;max-width: 0;overflow: hidden;text-align: left;background-color: #f0f8ff;}#sk-container-id-1 div.sk-toggleable__content pre {margin: 0.2em;color: black;border-radius: 0.25em;background-color: #f0f8ff;}#sk-container-id-1 input.sk-toggleable__control:checked~div.sk-toggleable__content {max-height: 200px;max-width: 100%;overflow: auto;}#sk-container-id-1 input.sk-toggleable__control:checked~label.sk-toggleable__label-arrow:before {content: \"▾\";}#sk-container-id-1 div.sk-estimator input.sk-toggleable__control:checked~label.sk-toggleable__label {background-color: #d4ebff;}#sk-container-id-1 div.sk-label input.sk-toggleable__control:checked~label.sk-toggleable__label {background-color: #d4ebff;}#sk-container-id-1 input.sk-hidden--visually {border: 0;clip: rect(1px 1px 1px 1px);clip: rect(1px, 1px, 1px, 1px);height: 1px;margin: -1px;overflow: hidden;padding: 0;position: absolute;width: 1px;}#sk-container-id-1 div.sk-estimator {font-family: monospace;background-color: #f0f8ff;border: 1px dotted black;border-radius: 0.25em;box-sizing: border-box;margin-bottom: 0.5em;}#sk-container-id-1 div.sk-estimator:hover {background-color: #d4ebff;}#sk-container-id-1 div.sk-parallel-item::after {content: \"\";width: 100%;border-bottom: 1px solid gray;flex-grow: 1;}#sk-container-id-1 div.sk-label:hover label.sk-toggleable__label {background-color: #d4ebff;}#sk-container-id-1 div.sk-serial::before {content: \"\";position: absolute;border-left: 1px solid gray;box-sizing: border-box;top: 0;bottom: 0;left: 50%;z-index: 0;}#sk-container-id-1 div.sk-serial {display: flex;flex-direction: column;align-items: center;background-color: white;padding-right: 0.2em;padding-left: 0.2em;position: relative;}#sk-container-id-1 div.sk-item {position: relative;z-index: 1;}#sk-container-id-1 div.sk-parallel {display: flex;align-items: stretch;justify-content: center;background-color: white;position: relative;}#sk-container-id-1 div.sk-item::before, #sk-container-id-1 div.sk-parallel-item::before {content: \"\";position: absolute;border-left: 1px solid gray;box-sizing: border-box;top: 0;bottom: 0;left: 50%;z-index: -1;}#sk-container-id-1 div.sk-parallel-item {display: flex;flex-direction: column;z-index: 1;position: relative;background-color: white;}#sk-container-id-1 div.sk-parallel-item:first-child::after {align-self: flex-end;width: 50%;}#sk-container-id-1 div.sk-parallel-item:last-child::after {align-self: flex-start;width: 50%;}#sk-container-id-1 div.sk-parallel-item:only-child::after {width: 0;}#sk-container-id-1 div.sk-dashed-wrapped {border: 1px dashed gray;margin: 0 0.4em 0.5em 0.4em;box-sizing: border-box;padding-bottom: 0.4em;background-color: white;}#sk-container-id-1 div.sk-label label {font-family: monospace;font-weight: bold;display: inline-block;line-height: 1.2em;}#sk-container-id-1 div.sk-label-container {text-align: center;}#sk-container-id-1 div.sk-container {/* jupyter's `normalize.less` sets `[hidden] { display: none; }` but bootstrap.min.css set `[hidden] { display: none !important; }` so we also need the `!important` here to be able to override the default hidden behavior on the sphinx rendered scikit-learn.org. See: https://github.com/scikit-learn/scikit-learn/issues/21755 */display: inline-block !important;position: relative;}#sk-container-id-1 div.sk-text-repr-fallback {display: none;}</style><div id=\"sk-container-id-1\" class=\"sk-top-container\"><div class=\"sk-text-repr-fallback\"><pre>LogisticRegression()</pre><b>In a Jupyter environment, please rerun this cell to show the HTML representation or trust the notebook. <br />On GitHub, the HTML representation is unable to render, please try loading this page with nbviewer.org.</b></div><div class=\"sk-container\" hidden><div class=\"sk-item\"><div class=\"sk-estimator sk-toggleable\"><input class=\"sk-toggleable__control sk-hidden--visually\" id=\"sk-estimator-id-1\" type=\"checkbox\" checked><label for=\"sk-estimator-id-1\" class=\"sk-toggleable__label sk-toggleable__label-arrow\">LogisticRegression</label><div class=\"sk-toggleable__content\"><pre>LogisticRegression()</pre></div></div></div></div></div>"
            ]
          },
          "metadata": {},
          "execution_count": 15
        }
      ]
    },
    {
      "cell_type": "code",
      "source": [
        "from sklearn.metrics import accuracy_score\n",
        "pred_train = model.predict(x_train)\n",
        "pred_test = model.predict(x_test)\n",
        "print(\"Accuracy for training: \", accuracy_score(pred_train,y_train))\n",
        "print(\"Accuracy for testing: \", accuracy_score(pred_test,y_test))"
      ],
      "metadata": {
        "colab": {
          "base_uri": "https://localhost:8080/"
        },
        "id": "9CqBRQlTbkCb",
        "outputId": "7527f770-6b97-42d2-e4ec-666508200d87"
      },
      "execution_count": null,
      "outputs": [
        {
          "output_type": "stream",
          "name": "stdout",
          "text": [
            "Accuracy for training:  0.9961240310077519\n",
            "Accuracy for testing:  0.9850993377483444\n"
          ]
        }
      ]
    },
    {
      "cell_type": "code",
      "source": [
        "from sklearn.tree import DecisionTreeClassifier\n",
        "from sklearn.tree import plot_tree\n",
        "from sklearn.metrics import accuracy_score"
      ],
      "metadata": {
        "id": "_-9RTq4-bl2U"
      },
      "execution_count": null,
      "outputs": []
    },
    {
      "cell_type": "code",
      "source": [
        "model_dt=DecisionTreeClassifier(criterion=\"entropy\",max_depth=4).fit(x_train,y_train)\n",
        "train_pred = model_dt.predict(x_train)\n",
        "test_pred = model_dt.predict(x_test)\n",
        "print(\"training accuracy : \",accuracy_score(train_pred,y_train))\n",
        "print(\"testing accuracy : \",accuracy_score(test_pred,y_test))\n",
        "plot_tree(model_dt)"
      ],
      "metadata": {
        "colab": {
          "base_uri": "https://localhost:8080/",
          "height": 493
        },
        "id": "tgm46wbubpW4",
        "outputId": "e577d465-6c58-40e1-b7b0-db512121f03e"
      },
      "execution_count": null,
      "outputs": [
        {
          "output_type": "stream",
          "name": "stdout",
          "text": [
            "training accuracy :  1.0\n",
            "testing accuracy :  0.9933774834437086\n"
          ]
        },
        {
          "output_type": "execute_result",
          "data": {
            "text/plain": [
              "[Text(0.5, 0.75, 'x[0] <= 359.0\\nentropy = 0.983\\nsamples = 258\\nvalue = [109, 149]'),\n",
              " Text(0.25, 0.25, 'entropy = 0.0\\nsamples = 109\\nvalue = [109, 0]'),\n",
              " Text(0.75, 0.25, 'entropy = 0.0\\nsamples = 149\\nvalue = [0, 149]')]"
            ]
          },
          "metadata": {},
          "execution_count": 18
        },
        {
          "output_type": "display_data",
          "data": {
            "text/plain": [
              "<Figure size 640x480 with 1 Axes>"
            ],
            "image/png": "[encoded data removed]"
          },
          "metadata": {}
        }
      ]
    },
    {
      "cell_type": "code",
      "source": [
        "from sklearn.metrics import accuracy_score\n",
        "from sklearn.svm import SVC "
      ],
      "metadata": {
        "id": "2XxBNq9VbrPR"
      },
      "execution_count": null,
      "outputs": []
    },
    {
      "cell_type": "code",
      "source": [
        "model = SVC()\n",
        "model.fit(x_train,y_train)\n",
        "train_pred=model.predict(x_train)\n",
        "test_pred=model.predict(x_test)\n",
        "print(\"training accuracy is : \", accuracy_score(train_pred,y_train))\n",
        "print(\"testing accuracy is : \", accuracy_score(test_pred,y_test))"
      ],
      "metadata": {
        "colab": {
          "base_uri": "https://localhost:8080/"
        },
        "id": "3JimUNUobuRW",
        "outputId": "53b33b90-6a9e-4738-cfbf-cb190f2bb657"
      },
      "execution_count": null,
      "outputs": [
        {
          "output_type": "stream",
          "name": "stdout",
          "text": [
            "training accuracy is :  0.9844961240310077\n",
            "testing accuracy is :  0.9751655629139073\n"
          ]
        }
      ]
    },
    {
      "cell_type": "code",
      "source": [
        "from sklearn.neighbors import KNeighborsClassifier"
      ],
      "metadata": {
        "id": "wqbeTYx4bwG6"
      },
      "execution_count": null,
      "outputs": []
    },
    {
      "cell_type": "code",
      "source": [
        "for k in range(1,10):\n",
        "  model = KNeighborsClassifier(n_neighbors=k)\n",
        "  model.fit(x_train,y_train)\n",
        "  train_pred=model.predict(x_train)\n",
        "  test_pred=model.predict(x_test)\n",
        "  print(\"training accuracy for k = \",k, \" is \",accuracy_score(train_pred,y_train))\n",
        "  print(\"testing accuracy for  k = \",k,\" is \", accuracy_score(test_pred,y_test))\n"
      ],
      "metadata": {
        "colab": {
          "base_uri": "https://localhost:8080/"
        },
        "id": "YN6ZsFDtb06A",
        "outputId": "8754d366-2a80-4d09-c090-45e0a658fcf7"
      },
      "execution_count": null,
      "outputs": [
        {
          "output_type": "stream",
          "name": "stdout",
          "text": [
            "training accuracy for k =  1  is  1.0\n",
            "testing accuracy for  k =  1  is  0.9784768211920529\n",
            "training accuracy for k =  2  is  1.0\n",
            "testing accuracy for  k =  2  is  0.9784768211920529\n",
            "training accuracy for k =  3  is  0.9961240310077519\n",
            "testing accuracy for  k =  3  is  0.9735099337748344\n",
            "training accuracy for k =  4  is  0.9806201550387597\n",
            "testing accuracy for  k =  4  is  0.9735099337748344\n",
            "training accuracy for k =  5  is  0.9883720930232558\n",
            "testing accuracy for  k =  5  is  0.9784768211920529\n",
            "training accuracy for k =  6  is  0.9844961240310077\n",
            "testing accuracy for  k =  6  is  0.9751655629139073\n",
            "training accuracy for k =  7  is  0.9883720930232558\n",
            "testing accuracy for  k =  7  is  0.9768211920529801\n",
            "training accuracy for k =  8  is  0.9922480620155039\n",
            "testing accuracy for  k =  8  is  0.9751655629139073\n",
            "training accuracy for k =  9  is  0.9806201550387597\n",
            "testing accuracy for  k =  9  is  0.9701986754966887\n"
          ]
        }
      ]
    },
    {
      "cell_type": "code",
      "source": [
        "from sklearn import svm\n",
        "\n",
        "from sklearn.model_selection import GridSearchCV\n",
        "svc_model = svm.SVC(verbose = False)\n",
        "from sklearn.model_selection import GridSearchCV\n",
        "def print_results(df_output):\n",
        "    df_results = df_output[['params', 'mean_train_score','mean_test_score', 'rank_test_score']]\n",
        "    df_results.sort_values(by = 'rank_test_score').head(5)\n",
        "    return df_results.sort_values(by = 'mean_test_score', ascending = False).head(5)\n",
        "\n",
        "grid_search = GridSearchCV(svc_model, param_grid = {\n",
        "                'kernel' : ['linear', 'rbf', 'poly'],\n",
        "                'degree' : [2,3,4,5,6],\n",
        "                'C' : [1,2,5]\n",
        "            }, \n",
        "            cv = 5, return_train_score = True)\n",
        "\n",
        "\n",
        "grid_search.fit(x_train, y_train)\n",
        "print_results(pd.DataFrame(grid_search.cv_results_))"
      ],
      "metadata": {
        "colab": {
          "base_uri": "https://localhost:8080/",
          "height": 206
        },
        "id": "Ivef15_-b3Tu",
        "outputId": "ffac4d39-6594-4648-c3a0-ee44c83dfe44"
      },
      "execution_count": null,
      "outputs": [
        {
          "output_type": "execute_result",
          "data": {
            "text/plain": [
              "                                       params  mean_train_score  \\\n",
              "17    {'C': 2, 'degree': 2, 'kernel': 'poly'}          0.991281   \n",
              "32    {'C': 5, 'degree': 2, 'kernel': 'poly'}          0.993213   \n",
              "0   {'C': 1, 'degree': 2, 'kernel': 'linear'}          1.000000   \n",
              "24  {'C': 2, 'degree': 5, 'kernel': 'linear'}          1.000000   \n",
              "21  {'C': 2, 'degree': 4, 'kernel': 'linear'}          1.000000   \n",
              "\n",
              "    mean_test_score  rank_test_score  \n",
              "17         0.992232                1  \n",
              "32         0.992232                1  \n",
              "0          0.992157                3  \n",
              "24         0.992157                3  \n",
              "21         0.992157                3  "
            ],
            "text/html": [
              "\n",
              "  <div id=\"df-5fb61d06-d9cb-4076-ae0e-624e4e254268\">\n",
              "    <div class=\"colab-df-container\">\n",
              "      <div>\n",
              "<style scoped>\n",
              "    .dataframe tbody tr th:only-of-type {\n",
              "        vertical-align: middle;\n",
              "    }\n",
              "\n",
              "    .dataframe tbody tr th {\n",
              "        vertical-align: top;\n",
              "    }\n",
              "\n",
              "    .dataframe thead th {\n",
              "        text-align: right;\n",
              "    }\n",
              "</style>\n",
              "<table border=\"1\" class=\"dataframe\">\n",
              "  <thead>\n",
              "    <tr style=\"text-align: right;\">\n",
              "      <th></th>\n",
              "      <th>params</th>\n",
              "      <th>mean_train_score</th>\n",
              "      <th>mean_test_score</th>\n",
              "      <th>rank_test_score</th>\n",
              "    </tr>\n",
              "  </thead>\n",
              "  <tbody>\n",
              "    <tr>\n",
              "      <th>17</th>\n",
              "      <td>{'C': 2, 'degree': 2, 'kernel': 'poly'}</td>\n",
              "      <td>0.991281</td>\n",
              "      <td>0.992232</td>\n",
              "      <td>1</td>\n",
              "    </tr>\n",
              "    <tr>\n",
              "      <th>32</th>\n",
              "      <td>{'C': 5, 'degree': 2, 'kernel': 'poly'}</td>\n",
              "      <td>0.993213</td>\n",
              "      <td>0.992232</td>\n",
              "      <td>1</td>\n",
              "    </tr>\n",
              "    <tr>\n",
              "      <th>0</th>\n",
              "      <td>{'C': 1, 'degree': 2, 'kernel': 'linear'}</td>\n",
              "      <td>1.000000</td>\n",
              "      <td>0.992157</td>\n",
              "      <td>3</td>\n",
              "    </tr>\n",
              "    <tr>\n",
              "      <th>24</th>\n",
              "      <td>{'C': 2, 'degree': 5, 'kernel': 'linear'}</td>\n",
              "      <td>1.000000</td>\n",
              "      <td>0.992157</td>\n",
              "      <td>3</td>\n",
              "    </tr>\n",
              "    <tr>\n",
              "      <th>21</th>\n",
              "      <td>{'C': 2, 'degree': 4, 'kernel': 'linear'}</td>\n",
              "      <td>1.000000</td>\n",
              "      <td>0.992157</td>\n",
              "      <td>3</td>\n",
              "    </tr>\n",
              "  </tbody>\n",
              "</table>\n",
              "</div>\n",
              "      <button class=\"colab-df-convert\" onclick=\"convertToInteractive('df-5fb61d06-d9cb-4076-ae0e-624e4e254268')\"\n",
              "              title=\"Convert this dataframe to an interactive table.\"\n",
              "              style=\"display:none;\">\n",
              "        \n",
              "  <svg xmlns=\"http://www.w3.org/2000/svg\" height=\"24px\"viewBox=\"0 0 24 24\"\n",
              "       width=\"24px\">\n",
              "    <path d=\"M0 0h24v24H0V0z\" fill=\"none\"/>\n",
              "    <path d=\"M18.56 5.44l.94 2.06.94-2.06 2.06-.94-2.06-.94-.94-2.06-.94 2.06-2.06.94zm-11 1L8.5 8.5l.94-2.06 2.06-.94-2.06-.94L8.5 2.5l-.94 2.06-2.06.94zm10 10l.94 2.06.94-2.06 2.06-.94-2.06-.94-.94-2.06-.94 2.06-2.06.94z\"/><path d=\"M17.41 7.96l-1.37-1.37c-.4-.4-.92-.59-1.43-.59-.52 0-1.04.2-1.43.59L10.3 9.45l-7.72 7.72c-.78.78-.78 2.05 0 2.83L4 21.41c.39.39.9.59 1.41.59.51 0 1.02-.2 1.41-.59l7.78-7.78 2.81-2.81c.8-.78.8-2.07 0-2.86zM5.41 20L4 18.59l7.72-7.72 1.47 1.35L5.41 20z\"/>\n",
              "  </svg>\n",
              "      </button>\n",
              "      \n",
              "  <style>\n",
              "    .colab-df-container {\n",
              "      display:flex;\n",
              "      flex-wrap:wrap;\n",
              "      gap: 12px;\n",
              "    }\n",
              "\n",
              "    .colab-df-convert {\n",
              "      background-color: #E8F0FE;\n",
              "      border: none;\n",
              "      border-radius: 50%;\n",
              "      cursor: pointer;\n",
              "      display: none;\n",
              "      fill: #1967D2;\n",
              "      height: 32px;\n",
              "      padding: 0 0 0 0;\n",
              "      width: 32px;\n",
              "    }\n",
              "\n",
              "    .colab-df-convert:hover {\n",
              "      background-color: #E2EBFA;\n",
              "      box-shadow: 0px 1px 2px rgba(60, 64, 67, 0.3), 0px 1px 3px 1px rgba(60, 64, 67, 0.15);\n",
              "      fill: #174EA6;\n",
              "    }\n",
              "\n",
              "    [theme=dark] .colab-df-convert {\n",
              "      background-color: #3B4455;\n",
              "      fill: #D2E3FC;\n",
              "    }\n",
              "\n",
              "    [theme=dark] .colab-df-convert:hover {\n",
              "      background-color: #434B5C;\n",
              "      box-shadow: 0px 1px 3px 1px rgba(0, 0, 0, 0.15);\n",
              "      filter: drop-shadow(0px 1px 2px rgba(0, 0, 0, 0.3));\n",
              "      fill: #FFFFFF;\n",
              "    }\n",
              "  </style>\n",
              "\n",
              "      <script>\n",
              "        const buttonEl =\n",
              "          document.querySelector('#df-5fb61d06-d9cb-4076-ae0e-624e4e254268 button.colab-df-convert');\n",
              "        buttonEl.style.display =\n",
              "          google.colab.kernel.accessAllowed ? 'block' : 'none';\n",
              "\n",
              "        async function convertToInteractive(key) {\n",
              "          const element = document.querySelector('#df-5fb61d06-d9cb-4076-ae0e-624e4e254268');\n",
              "          const dataTable =\n",
              "            await google.colab.kernel.invokeFunction('convertToInteractive',\n",
              "                                                     [key], {});\n",
              "          if (!dataTable) return;\n",
              "\n",
              "          const docLinkHtml = 'Like what you see? Visit the ' +\n",
              "            '<a target=\"_blank\" href=https://colab.research.google.com/notebooks/data_table.ipynb>data table notebook</a>'\n",
              "            + ' to learn more about interactive tables.';\n",
              "          element.innerHTML = '';\n",
              "          dataTable['output_type'] = 'display_data';\n",
              "          await google.colab.output.renderOutput(dataTable, element);\n",
              "          const docLink = document.createElement('div');\n",
              "          docLink.innerHTML = docLinkHtml;\n",
              "          element.appendChild(docLink);\n",
              "        }\n",
              "      </script>\n",
              "    </div>\n",
              "  </div>\n",
              "  "
            ]
          },
          "metadata": {},
          "execution_count": 24
        }
      ]
    },
    {
      "cell_type": "code",
      "source": [
        "svc_model = svm.SVC(C = 5, degree= 6, kernel= 'linear')\n",
        "svc_model.fit(x_train, y_train)\n",
        "svc_model.score(x_test, y_test)"
      ],
      "metadata": {
        "colab": {
          "base_uri": "https://localhost:8080/"
        },
        "id": "0MzcO1C-cC5_",
        "outputId": "0a22401f-b3fb-448e-8040-84047fbcac65"
      },
      "execution_count": null,
      "outputs": [
        {
          "output_type": "execute_result",
          "data": {
            "text/plain": [
              "0.9900662251655629"
            ]
          },
          "metadata": {},
          "execution_count": 25
        }
      ]
    },
    {
      "cell_type": "code",
      "source": [],
      "metadata": {
        "id": "XiPf50MBccYk"
      },
      "execution_count": null,
      "outputs": []
    }
  ]
}